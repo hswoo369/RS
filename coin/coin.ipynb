{
 "cells": [
  {
   "cell_type": "code",
   "execution_count": 1,
   "metadata": {},
   "outputs": [],
   "source": [
    "import gopax_api_wrapper as gopax\n",
    "import numpy as np\n",
    "import pandas as pd"
   ]
  },
  {
   "cell_type": "code",
   "execution_count": 2,
   "metadata": {},
   "outputs": [],
   "source": [
    "#data frame을 받아서 표로 보여줌\n",
    "def get_past_dataframe(trading_pair, start, end, interval):\n",
    "    start_ts = gopax.get_timestamp(start)\n",
    "    end_ts = gopax.get_timestamp(end)\n",
    "    raw_result = gopax.get_past_data(trading_pair, start_ts, end_ts, interval)\n",
    "    result = pd.DataFrame(raw_result, columns = ['time', 'low', 'high', 'open', 'close', 'volume'])\n",
    "    return result"
   ]
  },
  {
   "cell_type": "code",
   "execution_count": 112,
   "metadata": {},
   "outputs": [],
   "source": [
    "#거래소에서 불러올 시간 간격 설정\n",
    "start_utc_time = 1514800800    #2018-01-01 10:00:00 시작\n",
    "start_end_term = 60*60*24*7    #시작 마지막 간격 = 1주일\n",
    "next_data_term = 86400         #train 데이터간 시간 간격 = 1일\n",
    "time_term = 30                 #데이터간 시간 간격 = 30분\n",
    "\n",
    "label_term = 60*60"
   ]
  },
  {
   "cell_type": "code",
   "execution_count": 113,
   "metadata": {},
   "outputs": [],
   "source": [
    "#백테스팅\n",
    "# how_long에 저장할 개수를 지정\n",
    "#df_train 딕셔너리에 df_train_0 이런 식으로 데이터 저장하기\n",
    "#18년 1월 1일 부터 시작해서 일주일간의 데이터 적용\n",
    "\n",
    "from datetime import datetime\n",
    "\n",
    "how_long = 10\n",
    "df_train = {}\n",
    "\n",
    "for how_long in range(how_long):\n",
    "    df_train[\"df_train_\"+str(how_long)] = \\\n",
    "    get_past_dataframe('BTC-KRW', str(datetime.utcfromtimestamp(start_utc_time+how_long*next_data_term)), \n",
    "                       str(datetime.utcfromtimestamp(start_utc_time+start_end_term+how_long*next_data_term)), time_term)\n",
    "    \n",
    "    #train데이터를 exel로 옮기기\n",
    "    writer = pd.ExcelWriter('train_'+str(how_long)+'.xlsx')\n",
    "    df_train[\"df_train_\"+str(how_long)].to_excel(writer, 'Sheet1')\n",
    "    writer.save()"
   ]
  },
  {
   "cell_type": "code",
   "execution_count": 102,
   "metadata": {},
   "outputs": [],
   "source": [
    "df_label = {}\n",
    "\n",
    "for how_long in range(how_long):\n",
    "    df_label[\"df_label_\"+str(how_long)] = get_past_dataframe('BTC-KRW', str(datetime.utcfromtimestamp(1515405600+how_long*86400)), str(datetime.utcfromtimestamp(1515409200+how_long*86400)), 30)\n",
    "    \n",
    "    #label데이터를 exel로 옮기기\n",
    "    writer = pd.ExcelWriter('label_'+str(how_long)+'.xlsx')\n",
    "    df_label[\"df_label_\"+str(how_long)].to_excel(writer, 'Sheet1')\n",
    "    writer.save()"
   ]
  },
  {
   "cell_type": "code",
   "execution_count": null,
   "metadata": {},
   "outputs": [],
   "source": [
    "commision = 0.04 * 0.01   #수수료\n",
    "DATA = close_value\n",
    "balance = 30000000        #시드\n",
    "BTC = 0                   #비트코인 개수"
   ]
  },
  {
   "cell_type": "code",
   "execution_count": null,
   "metadata": {},
   "outputs": [],
   "source": [
    "pre_position = ma_df['MA5h'][0] > ma_df['MA40h'][0]\n",
    "pre_position"
   ]
  },
  {
   "cell_type": "code",
   "execution_count": null,
   "metadata": {},
   "outputs": [],
   "source": [
    "for t in range(1, len(ma_df.index)):\n",
    "    position = ma_df['MA5h'][t] > ma_df['MA40h'][t]\n",
    "    if pre_position != position:\n",
    "        pre_position = position\n",
    "        if (position == True) and (balance >= (ma_df['close'][t])*(1+commision)):\n",
    "            BTC += 1\n",
    "            balance -= (ma_df['close'][t])*(1+commision)\n",
    "            print(df.index[t], 'BUY\\nprice : %d\\nBakabce : %d\\nBTC : %d' % ((ma_df['close'][t], balance, BTC)))\n",
    "        elif (BTC >= 1) and (position == False):\n",
    "            BTC -= 1\n",
    "            balance += (ma_df['close'][t])*(1-commision)\n",
    "            print(df.index[t], 'SELL\\nprice : %d\\nBakabce : %d\\nBTC : %d' % ((ma_df['close'][t], balance, BTC)))\n",
    "            "
   ]
  },
  {
   "cell_type": "code",
   "execution_count": null,
   "metadata": {},
   "outputs": [],
   "source": [
    "asset = balance + df['close'][-1] * BTC\n",
    "asset"
   ]
  },
  {
   "cell_type": "code",
   "execution_count": null,
   "metadata": {},
   "outputs": [],
   "source": [
    "asset / 30000000"
   ]
  }
 ],
 "metadata": {
  "kernelspec": {
   "display_name": "Python 3",
   "language": "python",
   "name": "python3"
  },
  "language_info": {
   "codemirror_mode": {
    "name": "ipython",
    "version": 3
   },
   "file_extension": ".py",
   "mimetype": "text/x-python",
   "name": "python",
   "nbconvert_exporter": "python",
   "pygments_lexer": "ipython3",
   "version": "3.6.5"
  }
 },
 "nbformat": 4,
 "nbformat_minor": 2
}
