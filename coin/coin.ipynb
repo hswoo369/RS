{
 "cells": [
  {
   "cell_type": "code",
   "execution_count": 1,
   "metadata": {},
   "outputs": [],
   "source": [
    "import gopax_api_wrapper as gopax\n",
    "import numpy as np\n",
    "import pandas as pd\n",
    "from datetime import datetime"
   ]
  },
  {
   "cell_type": "code",
   "execution_count": 2,
   "metadata": {},
   "outputs": [],
   "source": [
    "#data frame을 받아서 표로 보여줌\n",
    "def get_past_dataframe(trading_pair, start, end, interval):\n",
    "    start_ts = gopax.get_timestamp(start)\n",
    "    end_ts = gopax.get_timestamp(end)\n",
    "    raw_result = gopax.get_past_data(trading_pair, start_ts, end_ts, interval)\n",
    "    result = pd.DataFrame(raw_result, columns = ['time', 'low', 'high', 'open', 'close', 'volume'])\n",
    "    return result"
   ]
  },
  {
   "cell_type": "code",
   "execution_count": 3,
   "metadata": {},
   "outputs": [],
   "source": [
    "#시작 UTC시간 구하기\n",
    "\n",
    "from time import mktime, strptime\n",
    "time_format = '%Y-%m-%d %H:%M:%S'\n",
    "time_tuple = strptime('2018-01-01 10:00:00', time_format)\n",
    "utc_start = mktime(time_tuple)\n",
    "\n",
    "#마지막 UTC시간 구하기\n",
    "\n",
    "time_format = '%Y-%m-%d %H:%M:%S'\n",
    "time_tuple = strptime('2018-01-10 10:00:00', time_format)\n",
    "utc_end = mktime(time_tuple)"
   ]
  },
  {
   "cell_type": "code",
   "execution_count": 4,
   "metadata": {},
   "outputs": [],
   "source": [
    "#거래소에서 불러올 시간 간격 설정\n",
    "start_utc_time = utc_start      #2018-01-01 10:00:00 시작\n",
    "start_end_term = 60*60*24*7    #시작 마지막 간격 = 1주일\n",
    "next_data_term = 86400         #train 데이터간 시간 간격 = 1일\n",
    "time_term = 30                 #데이터간 시간 간격 = 30분\n",
    "\n",
    "label_start_end_term = 60*60   #lable 데이터 시작 마지막 간격\n",
    "\n",
    "end_utc_time = utc_end\n",
    "how_long = int((utc_end - utc_start) / (3600*24))"
   ]
  },
  {
   "cell_type": "code",
   "execution_count": 5,
   "metadata": {},
   "outputs": [],
   "source": [
    "#백테스팅\n",
    "# how_long에 저장할 개수를 지정\n",
    "#df_train 딕셔너리에 df_train_0 이런 식으로 데이터 저장하기\n",
    "#18년 1월 1일 부터 시작해서 일주일간의 데이터 적용\n",
    "\n",
    "\n",
    "\n",
    "\n",
    "df_train = {}\n",
    "\n",
    "for how_long in range(how_long):\n",
    "    df_train[\"df_train_\"+str(how_long)] = \\\n",
    "    get_past_dataframe('BTC-KRW', str(datetime.utcfromtimestamp(start_utc_time+how_long*next_data_term)), \n",
    "                       str(datetime.utcfromtimestamp(start_utc_time+start_end_term+how_long*next_data_term)), time_term)\n",
    "    \n",
    "    #train데이터를 exel로 옮기기\n",
    "    writer = pd.ExcelWriter('train_'+str(how_long)+'.xlsx')\n",
    "    df_train[\"df_train_\"+str(how_long)].to_excel(writer, 'Sheet1')\n",
    "    writer.save()"
   ]
  },
  {
   "cell_type": "code",
   "execution_count": 6,
   "metadata": {},
   "outputs": [],
   "source": [
    "df_label = {}\n",
    "\n",
    "for how_long in range(how_long):\n",
    "    df_label[\"df_label_\"+str(how_long)] = \\\n",
    "    get_past_dataframe('BTC-KRW', str(datetime.utcfromtimestamp(start_utc_time+start_end_term+how_long*next_data_term)), \n",
    "                       str(datetime.utcfromtimestamp(start_utc_time+start_end_term+label_start_end_term+how_long*next_data_term)), time_term)\n",
    "    \n",
    "    #label데이터를 exel로 옮기기\n",
    "    writer = pd.ExcelWriter('label_'+str(how_long)+'.xlsx')\n",
    "    df_label[\"df_label_\"+str(how_long)].to_excel(writer, 'Sheet1')\n",
    "    writer.save()"
   ]
  },
  {
   "cell_type": "code",
   "execution_count": null,
   "metadata": {},
   "outputs": [],
   "source": [
    "commision = 0.04 * 0.01   #수수료\n",
    "DATA = close_value\n",
    "balance = 30000000        #시드\n",
    "BTC = 0                   #비트코인 개수"
   ]
  },
  {
   "cell_type": "code",
   "execution_count": null,
   "metadata": {},
   "outputs": [],
   "source": [
    "pre_position = ma_df['MA5h'][0] > ma_df['MA40h'][0]\n",
    "pre_position"
   ]
  },
  {
   "cell_type": "code",
   "execution_count": null,
   "metadata": {},
   "outputs": [],
   "source": [
    "for t in range(1, len(ma_df.index)):\n",
    "    position = ma_df['MA5h'][t] > ma_df['MA40h'][t]\n",
    "    if pre_position != position:\n",
    "        pre_position = position\n",
    "        if (position == True) and (balance >= (ma_df['close'][t])*(1+commision)):\n",
    "            BTC += 1\n",
    "            balance -= (ma_df['close'][t])*(1+commision)\n",
    "            print(df.index[t], 'BUY\\nprice : %d\\nBakabce : %d\\nBTC : %d' % ((ma_df['close'][t], balance, BTC)))\n",
    "        elif (BTC >= 1) and (position == False):\n",
    "            BTC -= 1\n",
    "            balance += (ma_df['close'][t])*(1-commision)\n",
    "            print(df.index[t], 'SELL\\nprice : %d\\nBakabce : %d\\nBTC : %d' % ((ma_df['close'][t], balance, BTC)))\n",
    "            "
   ]
  },
  {
   "cell_type": "code",
   "execution_count": null,
   "metadata": {},
   "outputs": [],
   "source": [
    "asset = balance + df['close'][-1] * BTC\n",
    "asset"
   ]
  },
  {
   "cell_type": "code",
   "execution_count": null,
   "metadata": {},
   "outputs": [],
   "source": [
    "asset / 30000000"
   ]
  }
 ],
 "metadata": {
  "kernelspec": {
   "display_name": "Python 3",
   "language": "python",
   "name": "python3"
  },
  "language_info": {
   "codemirror_mode": {
    "name": "ipython",
    "version": 3
   },
   "file_extension": ".py",
   "mimetype": "text/x-python",
   "name": "python",
   "nbconvert_exporter": "python",
   "pygments_lexer": "ipython3",
   "version": "3.6.5"
  }
 },
 "nbformat": 4,
 "nbformat_minor": 2
}
