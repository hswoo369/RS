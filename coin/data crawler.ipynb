{
 "cells": [
  {
   "cell_type": "code",
   "execution_count": null,
   "metadata": {},
   "outputs": [],
   "source": [
    "# Data Crawler\n",
    "# gopax 거래소에서 받고싶은 정보의 시간 범위를 작성하면 종가를 csv파일로 저장해주는 프로그램"
   ]
  },
  {
   "cell_type": "code",
   "execution_count": 1,
   "metadata": {},
   "outputs": [],
   "source": [
    "import gopax_api_wrapper as gopax\n",
    "import numpy as np\n",
    "import pandas as pd\n",
    "from datetime import datetime"
   ]
  },
  {
   "cell_type": "code",
   "execution_count": 2,
   "metadata": {},
   "outputs": [],
   "source": [
    "#data frame을 받기\n",
    "def get_past_dataframe(trading_pair, start, end, interval):\n",
    "    start_ts = gopax.get_timestamp(start)\n",
    "    end_ts = gopax.get_timestamp(end)\n",
    "    raw_result = gopax.get_past_data(trading_pair, start_ts, end_ts, interval)\n",
    "    result = pd.DataFrame(raw_result, columns = ['time', 'low', 'high', 'open', 'close', 'volume'])\n",
    "    return result"
   ]
  },
  {
   "cell_type": "code",
   "execution_count": 3,
   "metadata": {},
   "outputs": [],
   "source": [
    "#data frame 시간 조정\n",
    "def get_clean_data(trading_pair, start, end, interval):\n",
    "    diff = 18 * 3600\n",
    "    s = start\n",
    "    e = end\n",
    "    ts = gopax.get_timestamp(s)\n",
    "    te = gopax.get_timestamp(e)\n",
    "    result = get_past_dataframe(trading_pair, s, e, interval)\n",
    "    result = result[result.time >= ts * 1000]\n",
    "    result = result[result.time < te * 1000]\n",
    "    result['time'] = result['time'].apply(lambda x: datetime.utcfromtimestamp((x // 1000) + diff))\n",
    "    return result"
   ]
  },
  {
   "cell_type": "code",
   "execution_count": 28,
   "metadata": {},
   "outputs": [],
   "source": [
    "#시작 시간 지정\n",
    "#UTC시간으로 변경시키는 과정\n",
    "\n",
    "from time import mktime, strptime\n",
    "time_format = '%Y-%m-%d %H:%M:%S'\n",
    "time_tuple = strptime('2018-10-31 00:00:00', time_format)\n",
    "utc_start = mktime(time_tuple)\n",
    "\n",
    "#마지막 시간 지정\n",
    "#UTC시간으로 변경시키는 과정\n",
    "\n",
    "time_format = '%Y-%m-%d %H:%M:%S'\n",
    "time_tuple = strptime('2018-11-10 00:00:00', time_format)\n",
    "utc_end = mktime(time_tuple)"
   ]
  },
  {
   "cell_type": "code",
   "execution_count": 29,
   "metadata": {},
   "outputs": [],
   "source": [
    "#거래소에서 불러올 시간 간격 설정\n",
    "\n",
    "start_utc_time = utc_start      #2018-01-01 10:00:00 시작\n",
    "start_end_term = 60*60*24    #시작-마지막 간격 = 1일\n",
    "next_data_term = 3600         #train 데이터간 시간 간격 = 1시간\n",
    "time_term = 30                 #데이터간 시간 간격 = 30분\n",
    "\n",
    "label_time_term = 60*90   #lable 데이터 시작 마지막 간격\n",
    "\n",
    "slack = 60*60*4           #데이터 여유분(고팍스 데이터 불러오는거 그지 같아서...)\n",
    "end_utc_time = utc_end\n",
    "how_long = int((utc_end - utc_start) / (next_data_term))"
   ]
  },
  {
   "cell_type": "code",
   "execution_count": 30,
   "metadata": {},
   "outputs": [
    {
     "name": "stdout",
     "output_type": "stream",
     "text": [
      "(51,)\n",
      "(240, 51)\n",
      "                  time      low     high     open    close     volume\n",
      "2  2018-10-31 00:00:00  7145000  7152000  7150000  7152000   4.140182\n",
      "3  2018-10-31 00:30:00  7145000  7153000  7152000  7153000   5.186351\n",
      "4  2018-10-31 01:00:00  7153000  7155000  7153000  7155000   8.392444\n",
      "5  2018-10-31 01:30:00  7150000  7166000  7155000  7166000   4.759775\n",
      "6  2018-10-31 02:00:00  7145000  7165000  7165000  7145000   3.487650\n",
      "7  2018-10-31 02:30:00  7142000  7156000  7155000  7154000  16.362149\n",
      "8  2018-10-31 03:00:00  7140000  7158000  7144000  7148000  10.647679\n",
      "9  2018-10-31 03:30:00  7141000  7159000  7148000  7155000   4.376992\n",
      "10 2018-10-31 04:00:00  7148000  7161000  7152000  7151000   4.147805\n",
      "11 2018-10-31 04:30:00  7151000  7159000  7159000  7152000   2.882003\n",
      "12 2018-10-31 05:00:00  7151000  7155000  7151000  7152000   1.220740\n",
      "13 2018-10-31 05:30:00  7147000  7155000  7147000  7155000   5.062800\n",
      "14 2018-10-31 06:00:00  7154000  7164000  7155000  7159000  10.178583\n",
      "15 2018-10-31 06:30:00  7150000  7163000  7155000  7156000   7.384715\n",
      "16 2018-10-31 07:00:00  7150000  7165000  7157000  7150000   5.394451\n",
      "17 2018-10-31 07:30:00  7150000  7165000  7150000  7150000   2.709369\n",
      "18 2018-10-31 08:00:00  7149000  7160000  7149000  7157000   3.025989\n",
      "19 2018-10-31 08:30:00  7149000  7160000  7152000  7158000   3.282657\n",
      "20 2018-10-31 09:00:00  7144000  7158000  7158000  7156000   1.373672\n",
      "21 2018-10-31 09:30:00  7148000  7157000  7154000  7148000   2.347501\n",
      "22 2018-10-31 10:00:00  7144000  7152000  7150000  7144000   3.234036\n",
      "23 2018-10-31 10:30:00  7137000  7149000  7147000  7148000   5.099327\n",
      "24 2018-10-31 11:00:00  7138000  7151000  7146000  7151000   1.406564\n",
      "25 2018-10-31 11:30:00  7137000  7149000  7137000  7143000   0.507669\n",
      "26 2018-10-31 12:00:00  7137000  7143000  7143000  7138000   1.105942\n",
      "27 2018-10-31 12:30:00  7143000  7143000  7143000  7143000   0.946865\n",
      "28 2018-10-31 13:00:00  7140000  7143000  7143000  7143000   0.468375\n",
      "29 2018-10-31 13:30:00  7137000  7143000  7143000  7139000   1.475816\n",
      "30 2018-10-31 14:00:00  7130000  7162000  7137000  7130000   3.454306\n",
      "31 2018-10-31 14:30:00  7132000  7145000  7132000  7142000   1.555508\n",
      "32 2018-10-31 15:00:00  7139000  7146000  7144000  7142000   7.702499\n",
      "33 2018-10-31 15:30:00  7139000  7139000  7139000  7139000   1.760806\n",
      "34 2018-10-31 16:00:00  7135000  7139000  7138000  7135000   1.805762\n",
      "35 2018-10-31 16:30:00  7138000  7151000  7146000  7149000   6.909965\n",
      "36 2018-10-31 17:00:00  7143000  7149000  7149000  7144000   2.138156\n",
      "37 2018-10-31 17:30:00  7144000  7153000  7144000  7152000   2.088513\n",
      "38 2018-10-31 18:00:00  7144000  7154000  7145000  7150000   3.286528\n",
      "39 2018-10-31 18:30:00  7143000  7155000  7152000  7143000   4.558900\n",
      "40 2018-10-31 19:00:00  7145000  7165000  7145000  7152000   6.910119\n",
      "41 2018-10-31 19:30:00  7146000  7164000  7150000  7156000   2.758695\n",
      "42 2018-10-31 20:00:00  7135000  7153000  7147000  7145000   5.658581\n",
      "43 2018-10-31 20:30:00  7139000  7144000  7144000  7139000   4.851056\n",
      "44 2018-10-31 21:00:00  7138000  7147000  7139000  7140000  17.798629\n",
      "45 2018-10-31 21:30:00  7130000  7147000  7140000  7146000   9.275352\n",
      "46 2018-10-31 22:00:00  7132000  7146000  7146000  7134000   5.163471\n",
      "47 2018-10-31 22:30:00  7131000  7144000  7140000  7138000   5.079726\n",
      "48 2018-10-31 23:00:00  7128000  7146000  7138000  7146000  11.779463\n",
      "49 2018-10-31 23:30:00  7112000  7146000  7142000  7121000  36.684647\n",
      "50 2018-11-01 00:00:00  7120000  7141000  7121000  7126000  19.613235\n",
      "51 2018-11-01 00:30:00  7112000  7135000  7126000  7120000   7.582485\n",
      "52 2018-11-01 01:00:00  7112000  7125000  7120000  7125000   8.247821\n"
     ]
    }
   ],
   "source": [
    "# how_long에 저장할 개수를 지정\n",
    "#df_train 딕셔너리에 df_train_0 이런 식으로 데이터 저장하기\n",
    "#18년 1월 1일 부터 시작해서 일주일간의 데이터 적용\n",
    "\n",
    "df_train = {}\n",
    "value_sum = np.array(())\n",
    "\n",
    "for how_long in range(how_long):\n",
    "    df_train[\"df_train_\"+str(how_long)] = \\\n",
    "    get_clean_data('BTC-KRW', str(datetime.utcfromtimestamp(start_utc_time+how_long*next_data_term)), \n",
    "                       str(datetime.utcfromtimestamp(start_utc_time+start_end_term+how_long*next_data_term+label_time_term+slack)),\n",
    "                   time_term)\n",
    "    \n",
    "    if how_long == 0:\n",
    "        value = df_train[\"df_train_\"+str(0)][\"close\"].values[:51]\n",
    "        print(np.shape(value))        \n",
    "    else:\n",
    "        value= np.vstack([value, df_train[\"df_train_\"+str(how_long)][\"close\"].values[:51]]) \n",
    "\n",
    "        #train데이터를 exel로 옮기기\n",
    "a = np.asarray(value)\n",
    "print(np.shape(a))\n",
    "np.savetxt(\"train_24.csv\", a, delimiter=\",\")\n",
    "print(df_train['df_train_0'][:51])"
   ]
  },
  {
   "cell_type": "code",
   "execution_count": null,
   "metadata": {},
   "outputs": [],
   "source": []
  }
 ],
 "metadata": {
  "kernelspec": {
   "display_name": "Python 3",
   "language": "python",
   "name": "python3"
  },
  "language_info": {
   "codemirror_mode": {
    "name": "ipython",
    "version": 3
   },
   "file_extension": ".py",
   "mimetype": "text/x-python",
   "name": "python",
   "nbconvert_exporter": "python",
   "pygments_lexer": "ipython3",
   "version": "3.6.5"
  }
 },
 "nbformat": 4,
 "nbformat_minor": 2
}
