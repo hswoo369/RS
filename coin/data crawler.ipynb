{
 "cells": [
  {
   "cell_type": "code",
   "execution_count": null,
   "metadata": {},
   "outputs": [],
   "source": [
    "# Data Crawler\n",
    "# gopax 거래소에서 받고싶은 정보의 시간 범위를 작성하면 종가를 csv파일로 저장해주는 프로그램"
   ]
  },
  {
   "cell_type": "code",
   "execution_count": 1,
   "metadata": {},
   "outputs": [],
   "source": [
    "import gopax_api_wrapper as gopax\n",
    "import numpy as np\n",
    "import pandas as pd\n",
    "from datetime import datetime"
   ]
  },
  {
   "cell_type": "code",
   "execution_count": 2,
   "metadata": {},
   "outputs": [],
   "source": [
    "#data frame을 받기\n",
    "def get_past_dataframe(trading_pair, start, end, interval):\n",
    "    start_ts = gopax.get_timestamp(start)\n",
    "    end_ts = gopax.get_timestamp(end)\n",
    "    raw_result = gopax.get_past_data(trading_pair, start_ts, end_ts, interval)\n",
    "    result = pd.DataFrame(raw_result, columns = ['time', 'low', 'high', 'open', 'close', 'volume'])\n",
    "    return result"
   ]
  },
  {
   "cell_type": "code",
   "execution_count": 36,
   "metadata": {},
   "outputs": [],
   "source": [
    "#data frame 시간 조정\n",
    "def get_clean_data(trading_pair, start, end, interval):\n",
    "    diff = 18 * 3600\n",
    "    s = start\n",
    "    e = end\n",
    "    ts = gopax.get_timestamp(s)\n",
    "    te = gopax.get_timestamp(e)\n",
    "    result = get_past_dataframe(trading_pair, s, e, interval)\n",
    "    result = result[result.time >= ts * 1000]\n",
    "    result = result[result.time < te * 1000]\n",
    "    result['time'] = result['time'].apply(lambda x: datetime.utcfromtimestamp((x // 1000) + diff))\n",
    "    return result"
   ]
  },
  {
   "cell_type": "code",
   "execution_count": 92,
   "metadata": {},
   "outputs": [],
   "source": [
    "#시작 시간 지정\n",
    "#UTC시간으로 변경시키는 과정\n",
    "\n",
    "from time import mktime, strptime\n",
    "time_format = '%Y-%m-%d %H:%M:%S'\n",
    "time_tuple = strptime('2018-06-10 00:00:00', time_format)\n",
    "utc_start = mktime(time_tuple)\n",
    "\n",
    "#마지막 시간 지정\n",
    "#UTC시간으로 변경시키는 과정\n",
    "\n",
    "time_format = '%Y-%m-%d %H:%M:%S'\n",
    "time_tuple = strptime('2018-06-20 00:00:00', time_format)\n",
    "utc_end = mktime(time_tuple)"
   ]
  },
  {
   "cell_type": "code",
   "execution_count": 93,
   "metadata": {},
   "outputs": [],
   "source": [
    "#거래소에서 불러올 시간 간격 설정\n",
    "\n",
    "start_utc_time = utc_start      #2018-01-01 10:00:00 시작\n",
    "start_end_term = 60*60*24    #시작-마지막 간격 = 1일\n",
    "next_data_term = 3600         #train 데이터간 시간 간격 = 1시간\n",
    "time_term = 30                 #데이터간 시간 간격 = 30분\n",
    "\n",
    "label_time_term = 60*90   #lable 데이터 시작 마지막 간격\n",
    "\n",
    "slack = 60*60*4           #데이터 여유분(고팍스 데이터 불러오는거 그지 같아서...)\n",
    "end_utc_time = utc_end\n",
    "how_long = int((utc_end - utc_start) / (next_data_term))"
   ]
  },
  {
   "cell_type": "code",
   "execution_count": null,
   "metadata": {},
   "outputs": [
    {
     "name": "stdout",
     "output_type": "stream",
     "text": [
      "(51,)\n"
     ]
    }
   ],
   "source": [
    "# how_long에 저장할 개수를 지정\n",
    "#df_train 딕셔너리에 df_train_0 이런 식으로 데이터 저장하기\n",
    "#18년 1월 1일 부터 시작해서 일주일간의 데이터 적용\n",
    "\n",
    "df_train = {}\n",
    "value_sum = np.array(())\n",
    "\n",
    "for how_long in range(how_long):\n",
    "    df_train[\"df_train_\"+str(how_long)] = \\\n",
    "    get_clean_data('BTC-KRW', str(datetime.utcfromtimestamp(start_utc_time+how_long*next_data_term)), \n",
    "                       str(datetime.utcfromtimestamp(start_utc_time+start_end_term+how_long*next_data_term+label_time_term+slack)),\n",
    "                   time_term)\n",
    "    \n",
    "    if how_long == 0:\n",
    "        value = df_train[\"df_train_\"+str(0)][\"close\"].values[:51]\n",
    "        print(np.shape(value))        \n",
    "    else:\n",
    "        value= np.vstack([value, df_train[\"df_train_\"+str(how_long)][\"close\"].values[:51]]) \n",
    "\n",
    "        #train데이터를 exel로 옮기기\n",
    "a = np.asarray(value)\n",
    "print(np.shape(a))\n",
    "np.savetxt(\"train_10.csv\", a, delimiter=\",\")\n",
    "print(df_train['df_train_0'][:51])"
   ]
  },
  {
   "cell_type": "code",
   "execution_count": null,
   "metadata": {},
   "outputs": [],
   "source": []
  }
 ],
 "metadata": {
  "kernelspec": {
   "display_name": "Python 3",
   "language": "python",
   "name": "python3"
  },
  "language_info": {
   "codemirror_mode": {
    "name": "ipython",
    "version": 3
   },
   "file_extension": ".py",
   "mimetype": "text/x-python",
   "name": "python",
   "nbconvert_exporter": "python",
   "pygments_lexer": "ipython3",
   "version": "3.6.5"
  }
 },
 "nbformat": 4,
 "nbformat_minor": 2
}
