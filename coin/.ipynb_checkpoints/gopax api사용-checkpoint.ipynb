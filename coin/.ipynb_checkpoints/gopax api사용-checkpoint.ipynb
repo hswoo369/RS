{
 "cells": [
  {
   "cell_type": "code",
   "execution_count": 5,
   "metadata": {},
   "outputs": [],
   "source": [
    "import requests\n",
    "import json\n",
    "\n",
    "from datetime import datetime, timedelta\n",
    "from dateutil.parser import parse"
   ]
  },
  {
   "cell_type": "code",
   "execution_count": 6,
   "metadata": {},
   "outputs": [],
   "source": [
    "API_URL = 'https://api.gopax.co.kr'"
   ]
  },
  {
   "cell_type": "code",
   "execution_count": 7,
   "metadata": {},
   "outputs": [],
   "source": [
    "def get_asset_list():\n",
    "    result = requests.get(API_URL + '/assets')\n",
    "    return json.loads(result.text)"
   ]
  },
  {
   "cell_type": "code",
   "execution_count": 9,
   "metadata": {},
   "outputs": [],
   "source": [
    "def get_trading_pairs():\n",
    "    result = requests.get(API_URL + '/trading-pairs')\n",
    "    return json.loads(result.text)"
   ]
  },
  {
   "cell_type": "code",
   "execution_count": 12,
   "metadata": {},
   "outputs": [],
   "source": [
    "def get_ticker(trading_pair):\n",
    "    result = requests.get(API_URL + '/trading-pairs/%s/ticker' % trading_pair)\n",
    "    return json.loads(result.text)"
   ]
  },
  {
   "cell_type": "code",
   "execution_count": 30,
   "metadata": {},
   "outputs": [],
   "source": [
    "def get_books(trading_pair):\n",
    "    result = requests.get(API_URL + '/trading-pairs/%s/book' % trading_pair)\n",
    "    return json.loads(result.text)"
   ]
  },
  {
   "cell_type": "code",
   "execution_count": 46,
   "metadata": {},
   "outputs": [],
   "source": [
    "def get_recent_deals(trading_pair, limit, after, before):\n",
    "    req = API_URL + '/trading-pairs/%s/trades' % trading_pair\n",
    "    parameter = {'limit': limit, 'after': after, 'before': before}\n",
    "    result = requests.get(req, params = parameter)\n",
    "    return json.loads(result.text)"
   ]
  },
  {
   "cell_type": "code",
   "execution_count": 44,
   "metadata": {},
   "outputs": [],
   "source": [
    "#시간을 내맘대로 적으면 알아서 잘라주는 함수 (parse)\n",
    "def get_timestamp(date_string):\n",
    "    return parse(date_string).timestamp()"
   ]
  },
  {
   "cell_type": "code",
   "execution_count": 55,
   "metadata": {},
   "outputs": [],
   "source": [
    "def get_past_data(trading_pair, start, end, interval):\n",
    "    req = API_URL + '/trading-pairs/%s/candles' % trading_pair\n",
    "    parameter = {'start': start * 1000, 'end': end * 1000, 'interval': interval}\n",
    "    result = requests.get(req, params = parameter)\n",
    "    return json.loads(result.text)"
   ]
  },
  {
   "cell_type": "code",
   "execution_count": 71,
   "metadata": {},
   "outputs": [],
   "source": [
    "past_data_1 = get_past_data('BTC-KRW', get_timestamp('2018-01-01 12:00'), get_timestamp('2018-10-01 13:00'), 1440)"
   ]
  },
  {
   "cell_type": "code",
   "execution_count": 72,
   "metadata": {},
   "outputs": [
    {
     "data": {
      "text/plain": [
       "array([18937000., 18995000., 18819500., 18943500., 18970000., 20080000.,\n",
       "       23999000., 25620500., 25900000., 26075000., 25509000., 23900000.,\n",
       "       22382000., 19550000., 19799000., 21002000., 18989500., 15106000.,\n",
       "       12600000., 14980000., 15039000., 16652000., 14396000., 13370000.,\n",
       "       13250000., 13178500., 13120500., 12785500., 12954000., 13251000.,\n",
       "       11499500., 11141000.,  8690000.,  9147500.,  9805000.,  8758500.,\n",
       "        7750500.,  8661000.,  8428000.,  9500000.,  9950000.,  9999000.,\n",
       "        9529500., 10125000.,  9899000., 10486000., 11385000., 11447000.,\n",
       "       12347000., 11978500., 12666000., 13559500., 12804000., 11819500.,\n",
       "       12063000., 11596500., 11284500., 11742000., 11972000., 11863500.,\n",
       "       12195500., 12439500., 12800000., 12580000., 12730000., 12000000.,\n",
       "       11189500., 10500000., 10397000.,  9864500., 10499500., 10225000.,\n",
       "       10150000.,  9142000.,  9110500.,  9075000.,  8658000.,  8994500.,\n",
       "        9715000.,  9827500.,  9936500.,  9777000.,  9824500.,  9614000.,\n",
       "        9483500.,  9066000.,  8657500.,  8723000.,  7915500.,  7601500.,\n",
       "        7688000.,  7475500.,  7712500.,  8110000.,  7487000.,  7419500.,\n",
       "        7265500.,  7519500.,  7610000.,  7444500.,  7412000.,  7426500.,\n",
       "        8112500.,  8364000.,  8330000.,  8659000.,  8649000.,  8456000.,\n",
       "        8655000.,  8982500.,  9586000.,  9715500.,  9594500.,  9745000.,\n",
       "       10530500.,  9822000., 10149000.,  9819000., 10053500., 10195500.,\n",
       "       10126500.,  9912000., 10054500., 10680000., 10715500., 10825500.,\n",
       "       10695000., 10435000., 10250000., 10388000.,  9972000.,  9260000.,\n",
       "        9579000.,  9826500.,  9846500.,  9564000.,  9325500.,  9158500.,\n",
       "        9165000.,  9093000.,  9379500.,  9368000.,  8960000.,  8490000.,\n",
       "        8400000.,  8335500.,  8165000.,  8185500.,  7940000.,  8298500.,\n",
       "        8200000.,  8265000.,  8272000.,  8327000.,  8427000.,  8271000.,\n",
       "        8354500.,  8361000.,  8369000.,  8343500.,  8234000.,  7581000.,\n",
       "        7638500.,  7356000.,  7050000.,  7387500.,  7217500.,  7270000.,\n",
       "        7230500.,  7471500.,  7563500.,  7526000.,  7529000.,  6980500.,\n",
       "        7030500.,  6986500.,  7037500.,  6937500.,  6945000.,  6735500.,\n",
       "        6979000.,  7193000.,  7087000.,  7292500.,  7299500.,  7345500.,\n",
       "        7400500.,  7468500.,  7580000.,  7528000.,  7483500.,  7150000.,\n",
       "        7238000.,  7086500.,  7071000.,  7125000.,  7183500.,  7460000.,\n",
       "        8084500.,  8304000.,  8425000.,  8363500.,  8376000.,  8353000.,\n",
       "        8792000.,  9463500.,  9154000.,  8964500.,  9163500.,  9231000.,\n",
       "        9255000.,  9255000.,  8793000.,  8723000.,  8740500.,  8500000.,\n",
       "        8095000.,  8083000.,  8001500.,  7779000.,  7316000.,  7550000.,\n",
       "        7246000.,  7337000.,  7406000.,  7391000.,  7237000.,  7321000.,\n",
       "        7342000.,  7518000.,  7389000.,  7427000.,  7258000.,  7395000.,\n",
       "        7296000.,  7447000.,  7580000.,  7596000.,  7566000.,  7693000.,\n",
       "        7853000.,  7852000.,  7867000.,  7893000.,  8012000.,  8107000.,\n",
       "        8136000.,  8261000.,  7700000.,  7524000.,  7395000.,  7216000.,\n",
       "        7231000.,  7274000.,  7238000.,  7261000.,  7365000.,  7371000.,\n",
       "        7358000.,  7350000.,  7204000.,  7235000.,  7257000.,  7311000.,\n",
       "        7530000.,  7534000.,  7513000.,  7427000.,  7304000.,  7308000.,\n",
       "        7455000.,  7414000.,  7374000.,  7402000.])"
      ]
     },
     "execution_count": 72,
     "metadata": {},
     "output_type": "execute_result"
    }
   ],
   "source": [
    "data = np.array(past_data_1)\n",
    "data[:, 3]"
   ]
  },
  {
   "cell_type": "code",
   "execution_count": 73,
   "metadata": {},
   "outputs": [
    {
     "data": {
      "text/plain": [
       "(274, 6)"
      ]
     },
     "execution_count": 73,
     "metadata": {},
     "output_type": "execute_result"
    }
   ],
   "source": [
    "data.shape"
   ]
  },
  {
   "cell_type": "code",
   "execution_count": 74,
   "metadata": {},
   "outputs": [],
   "source": [
    "import matplotlib.pyplot as plt"
   ]
  },
  {
   "cell_type": "code",
   "execution_count": 75,
   "metadata": {},
   "outputs": [
    {
     "data": {
      "text/plain": [
       "[<matplotlib.lines.Line2D at 0x87c705f390>]"
      ]
     },
     "execution_count": 75,
     "metadata": {},
     "output_type": "execute_result"
    },
    {
     "data": {
      "image/png": "[encoded data removed]",
      "text/plain": [
       "<Figure size 432x288 with 1 Axes>"
      ]
     },
     "metadata": {},
     "output_type": "display_data"
    }
   ],
   "source": [
    "#open가격 그래프로 나타내기\n",
    "plt.plot(data[:, 3])"
   ]
  },
  {
   "cell_type": "code",
   "execution_count": null,
   "metadata": {},
   "outputs": [],
   "source": []
  }
 ],
 "metadata": {
  "kernelspec": {
   "display_name": "Python 3",
   "language": "python",
   "name": "python3"
  },
  "language_info": {
   "codemirror_mode": {
    "name": "ipython",
    "version": 3
   },
   "file_extension": ".py",
   "mimetype": "text/x-python",
   "name": "python",
   "nbconvert_exporter": "python",
   "pygments_lexer": "ipython3",
   "version": "3.6.5"
  }
 },
 "nbformat": 4,
 "nbformat_minor": 2
}
