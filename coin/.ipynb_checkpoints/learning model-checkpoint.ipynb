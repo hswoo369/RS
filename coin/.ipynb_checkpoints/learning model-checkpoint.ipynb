{
 "cells": [
  {
   "cell_type": "code",
   "execution_count": 1,
   "metadata": {},
   "outputs": [
    {
     "name": "stderr",
     "output_type": "stream",
     "text": [
      "C:\\Anaconda3\\lib\\site-packages\\h5py\\__init__.py:36: FutureWarning: Conversion of the second argument of issubdtype from `float` to `np.floating` is deprecated. In future, it will be treated as `np.float64 == np.dtype(float).type`.\n",
      "  from ._conv import register_converters as _register_converters\n"
     ]
    }
   ],
   "source": [
    "import tensorflow as tf\n",
    "import numpy as np"
   ]
  },
  {
   "cell_type": "code",
   "execution_count": 2,
   "metadata": {},
   "outputs": [
    {
     "name": "stdout",
     "output_type": "stream",
     "text": [
      "(59, 297)\n",
      "59\n"
     ]
    }
   ],
   "source": [
    "xy = np.loadtxt('train_0.csv', delimiter=',', dtype = np.float32)\n",
    "x_data = xy[:, :297]\n",
    "print(np.shape(x_data))\n",
    "y_data =xy[:, 297:300]\n",
    "y_change = (xy[:, 299] - xy[:, 297]) / xy[:, 299] * 100\n",
    "y_change = np.vstack(y_change)\n",
    "print(np.shape(y_change)[0])\n",
    "xy_test = np.loadtxt('train_1.csv', delimiter=',', dtype = np.float32)\n",
    "y_test_data = xy_test[:, :297]\n",
    "y_test = (xy_test[:, 299] - xy_test[:, 297]) / xy_test[:, 299] * 100"
   ]
  },
  {
   "cell_type": "code",
   "execution_count": 4,
   "metadata": {},
   "outputs": [
    {
     "ename": "AttributeError",
     "evalue": "'Tensor' object has no attribute 'trunc'",
     "output_type": "error",
     "traceback": [
      "\u001b[1;31m---------------------------------------------------------------------------\u001b[0m",
      "\u001b[1;31mAttributeError\u001b[0m                            Traceback (most recent call last)",
      "\u001b[1;32m<ipython-input-4-741be7093f81>\u001b[0m in \u001b[0;36m<module>\u001b[1;34m()\u001b[0m\n\u001b[0;32m     26\u001b[0m \u001b[0mcount\u001b[0m \u001b[1;33m=\u001b[0m \u001b[1;36m0\u001b[0m\u001b[1;33m\u001b[0m\u001b[0m\n\u001b[0;32m     27\u001b[0m \u001b[1;32mfor\u001b[0m \u001b[0mi\u001b[0m \u001b[1;32min\u001b[0m \u001b[0mrange\u001b[0m\u001b[1;33m(\u001b[0m\u001b[0mnp\u001b[0m\u001b[1;33m.\u001b[0m\u001b[0mshape\u001b[0m\u001b[1;33m(\u001b[0m\u001b[0my_change\u001b[0m\u001b[1;33m)\u001b[0m\u001b[1;33m[\u001b[0m\u001b[1;36m0\u001b[0m\u001b[1;33m]\u001b[0m\u001b[1;33m)\u001b[0m\u001b[1;33m:\u001b[0m\u001b[1;33m\u001b[0m\u001b[0m\n\u001b[1;32m---> 28\u001b[1;33m     \u001b[1;32mif\u001b[0m \u001b[0mnp\u001b[0m\u001b[1;33m.\u001b[0m\u001b[0mtrunc\u001b[0m\u001b[1;33m(\u001b[0m\u001b[0mhypothesis\u001b[0m\u001b[1;33m)\u001b[0m\u001b[1;33m[\u001b[0m\u001b[0mi\u001b[0m\u001b[1;33m]\u001b[0m \u001b[1;33m==\u001b[0m \u001b[0mnp\u001b[0m\u001b[1;33m.\u001b[0m\u001b[0mtrunc\u001b[0m\u001b[1;33m(\u001b[0m\u001b[0my_test\u001b[0m\u001b[1;33m)\u001b[0m\u001b[1;33m[\u001b[0m\u001b[0mi\u001b[0m\u001b[1;33m]\u001b[0m\u001b[1;33m:\u001b[0m\u001b[1;33m\u001b[0m\u001b[0m\n\u001b[0m\u001b[0;32m     29\u001b[0m         \u001b[0mcount\u001b[0m \u001b[1;33m+=\u001b[0m \u001b[1;36m1\u001b[0m\u001b[1;33m\u001b[0m\u001b[0m\n\u001b[0;32m     30\u001b[0m \u001b[1;33m\u001b[0m\u001b[0m\n",
      "\u001b[1;31mAttributeError\u001b[0m: 'Tensor' object has no attribute 'trunc'"
     ]
    }
   ],
   "source": [
    "nb_classes = 10\n",
    "\n",
    "x = tf.placeholder(tf.float32, shape = [None, 297])\n",
    "y = tf.placeholder(tf.float32, shape = [None, 1])\n",
    "\n",
    "w1 = tf.get_variable('weight1', shape=[297,256], initializer = tf.contrib.layers.xavier_initializer())\n",
    "b1 = tf.Variable(tf.random_normal([256]), name = 'bias1')\n",
    "_layer1 = tf.nn.relu(tf.matmul(x,w1) + b1)\n",
    "\n",
    "w2 = tf.get_variable('weight2', shape=[256,256], initializer = tf.contrib.layers.xavier_initializer())\n",
    "b2 = tf.Variable(tf.random_normal([256]), name = 'bias2')\n",
    "_layer2 = tf.nn.relu(tf.matmul(_layer1,w2) + b2)\n",
    "\n",
    "w3 = tf.get_variable('weight3', shape=[256,128], initializer = tf.contrib.layers.xavier_initializer())\n",
    "b3 = tf.Variable(tf.random_normal([128]), name = 'bias3')\n",
    "_layer3 = tf.nn.relu(tf.matmul(_layer2,w3) + b3)\n",
    "\n",
    "w4 = tf.get_variable('weight4', shape=[128,1], initializer = tf.contrib.layers.xavier_initializer())\n",
    "b4 = tf.Variable(tf.random_normal([1]), name = 'bias4')\n",
    "hypothesis = tf.matmul(_layer3,w4) + b4\n",
    "cost = tf.reduce_mean(tf.square(hypothesis - y_change))\n",
    "\n",
    "optimizer = tf.train.AdamOptimizer(learning_rate = 0.1)\n",
    "train = optimizer.minimize(cost)\n",
    "\n",
    "count = 0\n",
    "for i in range(np.shape(y_test)[0]):   \n",
    "    if tf.cast(hypothesis, tf.int32)[i] == tf.cast(y_test, tf.int32)[i]:\n",
    "        count += 1\n",
    "accuracy = count/ np.shape(y_test)[0]\n",
    "\n",
    "training_epochs = 201\n",
    "\n",
    "sess = tf.Session()\n",
    "sess.run(tf.global_variables_initializer())\n",
    "\n",
    "for step in range(training_epochs):\n",
    "    sess.run(train)\n",
    "    if step % 20 == 0:\n",
    "        print(step, sess.run(cost), sess.run(accuracy), feed_dict = {x: x_data, y: y_change})\n"
   ]
  },
  {
   "cell_type": "code",
   "execution_count": null,
   "metadata": {},
   "outputs": [],
   "source": []
  }
 ],
 "metadata": {
  "kernelspec": {
   "display_name": "Python 3",
   "language": "python",
   "name": "python3"
  },
  "language_info": {
   "codemirror_mode": {
    "name": "ipython",
    "version": 3
   },
   "file_extension": ".py",
   "mimetype": "text/x-python",
   "name": "python",
   "nbconvert_exporter": "python",
   "pygments_lexer": "ipython3",
   "version": "3.6.5"
  }
 },
 "nbformat": 4,
 "nbformat_minor": 2
}
