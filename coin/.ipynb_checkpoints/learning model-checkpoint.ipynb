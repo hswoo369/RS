{
 "cells": [
  {
   "cell_type": "code",
   "execution_count": 1,
   "metadata": {},
   "outputs": [
    {
     "name": "stderr",
     "output_type": "stream",
     "text": [
      "C:\\Anaconda3\\lib\\site-packages\\h5py\\__init__.py:36: FutureWarning: Conversion of the second argument of issubdtype from `float` to `np.floating` is deprecated. In future, it will be treated as `np.float64 == np.dtype(float).type`.\n",
      "  from ._conv import register_converters as _register_converters\n"
     ]
    }
   ],
   "source": [
    "import tensorflow as tf\n",
    "import numpy as np\n",
    "from sklearn.preprocessing import MinMaxScaler"
   ]
  },
  {
   "cell_type": "code",
   "execution_count": 2,
   "metadata": {},
   "outputs": [],
   "source": [
    "#train 데이터\n",
    "# CSV파일에서 데이터를 불러온다\n",
    "# 뒤의 1시간동안 1% 상승하면 1  (수수료가 0.04%인것 감안)\n",
    "# 그외에는하락하면 0으로 라벨링\n",
    "x_data = {}\n",
    "y_labels = {}\n",
    "for num in range(24):\n",
    "    xy = np.loadtxt('train_'+str(num)+'.csv', delimiter=',', dtype = np.float32)\n",
    "    x_data['train_'+str(num)] = xy[:, :48]/10000000\n",
    "\n",
    "y_data =xy[:, 48:]\n",
    "y_label = []\n",
    "for i in range(np.shape(xy)[0]):\n",
    "    if ((xy[i, 50] - xy[i, 48])/xy[i, 48]) > 0.01:\n",
    "        y_label.append(1)\n",
    "    else:\n",
    "        y_label.append(0)\n",
    "y_label = np.reshape(y_label, [np.shape(xy)[0],1])\n",
    "y_labels['train_'+str(num)] = y_label"
   ]
  },
  {
   "cell_type": "code",
   "execution_count": 3,
   "metadata": {},
   "outputs": [
    {
     "name": "stdout",
     "output_type": "stream",
     "text": [
      "(240, 48)\n"
     ]
    }
   ],
   "source": [
    "#test 데이터\n",
    "\n",
    "xy_test = np.loadtxt('train_24.csv', delimiter=',', dtype = np.float32)\n",
    "x_test_data = xy_test[:, :48]\n",
    "print(np.shape(x_test_data))\n",
    "y_test_data =xy_test[:, 48:]\n",
    "y_test_label = []\n",
    "for i in range(np.shape(xy_test)[0]):\n",
    "    if (xy_test[i, 50] - xy_test[i, 48]) > 0:\n",
    "        y_test_label.append(1)\n",
    "    else:\n",
    "        y_test_label.append(0)\n",
    "y_test_label = np.reshape(y_test_label, [np.shape(xy_test)[0],1])"
   ]
  },
  {
   "cell_type": "code",
   "execution_count": 4,
   "metadata": {},
   "outputs": [
    {
     "name": "stdout",
     "output_type": "stream",
     "text": [
      "Epoch: 0001 cost = 0.006179588\n",
      "Epoch: 0101 cost = 0.000000000\n",
      "Epoch: 0201 cost = 0.000000000\n",
      "Epoch: 0301 cost = 0.000000000\n",
      "Epoch: 0401 cost = 0.000000000\n",
      "Epoch: 0501 cost = 0.000000000\n",
      "Epoch: 0601 cost = 0.000000000\n",
      "Epoch: 0701 cost = 0.000000000\n",
      "Epoch: 0801 cost = 0.000000000\n",
      "Epoch: 0901 cost = 0.000000000\n",
      "Epoch: 1001 cost = 0.000000000\n",
      "Accuracy: 0.5208333\n"
     ]
    },
    {
     "ename": "KeyError",
     "evalue": "'train_0'",
     "output_type": "error",
     "traceback": [
      "\u001b[1;31m---------------------------------------------------------------------------\u001b[0m",
      "\u001b[1;31mKeyError\u001b[0m                                  Traceback (most recent call last)",
      "\u001b[1;32m<ipython-input-4-c224644297e8>\u001b[0m in \u001b[0;36m<module>\u001b[1;34m()\u001b[0m\n\u001b[0;32m     43\u001b[0m \u001b[1;33m\u001b[0m\u001b[0m\n\u001b[0;32m     44\u001b[0m \u001b[0mprint\u001b[0m\u001b[1;33m(\u001b[0m\u001b[1;34m'Accuracy:'\u001b[0m\u001b[1;33m,\u001b[0m \u001b[0maccuracy\u001b[0m\u001b[1;33m.\u001b[0m\u001b[0meval\u001b[0m\u001b[1;33m(\u001b[0m\u001b[0msession\u001b[0m\u001b[1;33m=\u001b[0m\u001b[0msess\u001b[0m\u001b[1;33m,\u001b[0m \u001b[0mfeed_dict\u001b[0m \u001b[1;33m=\u001b[0m \u001b[1;33m{\u001b[0m\u001b[0mx\u001b[0m\u001b[1;33m:\u001b[0m \u001b[0mx_test_data\u001b[0m\u001b[1;33m,\u001b[0m \u001b[0my\u001b[0m\u001b[1;33m:\u001b[0m \u001b[0my_test_label\u001b[0m\u001b[1;33m}\u001b[0m\u001b[1;33m)\u001b[0m\u001b[1;33m)\u001b[0m\u001b[1;33m\u001b[0m\u001b[0m\n\u001b[1;32m---> 45\u001b[1;33m \u001b[0mprint\u001b[0m\u001b[1;33m(\u001b[0m\u001b[1;34m'Accuracy:'\u001b[0m\u001b[1;33m,\u001b[0m \u001b[0maccuracy\u001b[0m\u001b[1;33m.\u001b[0m\u001b[0meval\u001b[0m\u001b[1;33m(\u001b[0m\u001b[0msession\u001b[0m\u001b[1;33m=\u001b[0m\u001b[0msess\u001b[0m\u001b[1;33m,\u001b[0m \u001b[0mfeed_dict\u001b[0m \u001b[1;33m=\u001b[0m \u001b[1;33m{\u001b[0m\u001b[0mx\u001b[0m\u001b[1;33m:\u001b[0m \u001b[0mx_data\u001b[0m\u001b[1;33m[\u001b[0m\u001b[1;34m'train_0'\u001b[0m\u001b[1;33m]\u001b[0m\u001b[1;33m,\u001b[0m \u001b[0my\u001b[0m\u001b[1;33m:\u001b[0m \u001b[0my_labels\u001b[0m\u001b[1;33m[\u001b[0m\u001b[1;34m'train_0'\u001b[0m\u001b[1;33m]\u001b[0m\u001b[1;33m}\u001b[0m\u001b[1;33m)\u001b[0m\u001b[1;33m)\u001b[0m\u001b[1;33m\u001b[0m\u001b[0m\n\u001b[0m",
      "\u001b[1;31mKeyError\u001b[0m: 'train_0'"
     ]
    }
   ],
   "source": [
    "x = tf.placeholder(tf.float32, shape = [None, 48])\n",
    "y = tf.placeholder(tf.float32, shape = [None, 1])\n",
    "\n",
    "w1 = tf.get_variable('weight1', shape=[48,256], initializer = tf.contrib.layers.xavier_initializer())\n",
    "b1 = tf.Variable(tf.random_normal([256]), name = 'bias1')\n",
    "_layer1 = tf.nn.relu(tf.matmul(x,w1) + b1)\n",
    "\n",
    "w2 = tf.get_variable('weight2', shape=[256,128], initializer = tf.contrib.layers.xavier_initializer())\n",
    "b2 = tf.Variable(tf.random_normal([128]), name = 'bias2')\n",
    "_layer2 = tf.nn.relu(tf.matmul(_layer1,w2) + b2)\n",
    "\n",
    "w3 = tf.get_variable('weight3', shape=[128,64], initializer = tf.contrib.layers.xavier_initializer())\n",
    "b3 = tf.Variable(tf.random_normal([64]), name = 'bias3')\n",
    "_layer3 = tf.nn.relu(tf.matmul(_layer2,w3) + b3)\n",
    "\n",
    "w4 = tf.get_variable('weight4', shape=[64,1], initializer = tf.contrib.layers.xavier_initializer())\n",
    "b4 = tf.Variable(tf.random_normal([1]), name = 'bias4')\n",
    "hypothesis = tf.sigmoid(tf.matmul(_layer3,w4) + b4)\n",
    "cost = -tf.reduce_mean(y*tf.log(hypothesis) + (1-y)*tf.log(1-hypothesis))\n",
    "\n",
    "\n",
    "optimizer = tf.train.AdamOptimizer(learning_rate = 0.001)\n",
    "train = optimizer.minimize(cost)\n",
    "\n",
    "predict = tf.cast(hypothesis > 0.5, dtype = tf.float32)\n",
    "accuracy = tf.reduce_mean(tf.cast(tf.equal(predict,y), dtype = tf.float32))\n",
    "\n",
    "training_epochs = 1001\n",
    "\n",
    "sess = tf.Session()\n",
    "sess.run(tf.global_variables_initializer())\n",
    "\n",
    "for epoch in range(training_epochs):\n",
    "    avg_cost = 0\n",
    "    total_batch = 24\n",
    "    \n",
    "    for i in range(total_batch):\n",
    "        c, _ = sess.run([cost, train], feed_dict = {x: x_data['train_'+str(num)], y: y_labels['train_'+str(num)]})\n",
    "        avg_cost += c /total_batch\n",
    "        \n",
    "    if epoch % 100 == 0:\n",
    "        print('Epoch:', '%04d' % (epoch +1), 'cost =', '{:.9f}'.format(avg_cost))\n",
    "    \n",
    "print('Accuracy:', accuracy.eval(session=sess, feed_dict = {x: x_test_data, y: y_test_label}))\n",
    "print('Accuracy:', accuracy.eval(session=sess, feed_dict = {x: x_data['train_0'], y: y_labels['train_0']}))"
   ]
  },
  {
   "cell_type": "code",
   "execution_count": null,
   "metadata": {},
   "outputs": [],
   "source": []
  },
  {
   "cell_type": "code",
   "execution_count": null,
   "metadata": {},
   "outputs": [],
   "source": []
  }
 ],
 "metadata": {
  "kernelspec": {
   "display_name": "Python 3",
   "language": "python",
   "name": "python3"
  },
  "language_info": {
   "codemirror_mode": {
    "name": "ipython",
    "version": 3
   },
   "file_extension": ".py",
   "mimetype": "text/x-python",
   "name": "python",
   "nbconvert_exporter": "python",
   "pygments_lexer": "ipython3",
   "version": "3.6.5"
  }
 },
 "nbformat": 4,
 "nbformat_minor": 2
}
