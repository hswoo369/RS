{
 "cells": [
  {
   "cell_type": "code",
   "execution_count": null,
   "metadata": {},
   "outputs": [],
   "source": [
    "# Data Crawler\n",
    "# gopax 거래소에서 받고싶은 정보의 시간 범위를 작성하면 종가를 csv파일로 저장해주는 프로그램"
   ]
  },
  {
   "cell_type": "code",
   "execution_count": 1,
   "metadata": {},
   "outputs": [],
   "source": [
    "import gopax_api_wrapper as gopax\n",
    "import numpy as np\n",
    "import pandas as pd\n",
    "from datetime import datetime"
   ]
  },
  {
   "cell_type": "code",
   "execution_count": 2,
   "metadata": {},
   "outputs": [],
   "source": [
    "#data frame을 받기\n",
    "def get_past_dataframe(trading_pair, start, end, interval):\n",
    "    start_ts = gopax.get_timestamp(start)\n",
    "    end_ts = gopax.get_timestamp(end)\n",
    "    raw_result = gopax.get_past_data(trading_pair, start_ts, end_ts, interval)\n",
    "    result = pd.DataFrame(raw_result, columns = ['time', 'low', 'high', 'open', 'close', 'volume'])\n",
    "    return result"
   ]
  },
  {
   "cell_type": "code",
   "execution_count": 36,
   "metadata": {},
   "outputs": [],
   "source": [
    "#data frame 시간 조정\n",
    "def get_clean_data(trading_pair, start, end, interval):\n",
    "    diff = 18 * 3600\n",
    "    s = start\n",
    "    e = end\n",
    "    ts = gopax.get_timestamp(s)\n",
    "    te = gopax.get_timestamp(e)\n",
    "    result = get_past_dataframe(trading_pair, s, e, interval)\n",
    "    result = result[result.time >= ts * 1000]\n",
    "    result = result[result.time < te * 1000]\n",
    "    result['time'] = result['time'].apply(lambda x: datetime.utcfromtimestamp((x // 1000) + diff))\n",
    "    return result"
   ]
  },
  {
   "cell_type": "code",
   "execution_count": 107,
   "metadata": {},
   "outputs": [],
   "source": [
    "#시작 시간 지정\n",
    "#UTC시간으로 변경시키는 과정\n",
    "\n",
    "from time import mktime, strptime\n",
    "time_format = '%Y-%m-%d %H:%M:%S'\n",
    "time_tuple = strptime('2018-07-31 00:00:00', time_format)\n",
    "utc_start = mktime(time_tuple)\n",
    "\n",
    "#마지막 시간 지정\n",
    "#UTC시간으로 변경시키는 과정\n",
    "\n",
    "time_format = '%Y-%m-%d %H:%M:%S'\n",
    "time_tuple = strptime('2018-08-10 00:00:00', time_format)\n",
    "utc_end = mktime(time_tuple)"
   ]
  },
  {
   "cell_type": "code",
   "execution_count": 108,
   "metadata": {},
   "outputs": [],
   "source": [
    "#거래소에서 불러올 시간 간격 설정\n",
    "\n",
    "start_utc_time = utc_start      #2018-01-01 10:00:00 시작\n",
    "start_end_term = 60*60*24    #시작-마지막 간격 = 1일\n",
    "next_data_term = 3600         #train 데이터간 시간 간격 = 1시간\n",
    "time_term = 30                 #데이터간 시간 간격 = 30분\n",
    "\n",
    "label_time_term = 60*90   #lable 데이터 시작 마지막 간격\n",
    "\n",
    "slack = 60*60*4           #데이터 여유분(고팍스 데이터 불러오는거 그지 같아서...)\n",
    "end_utc_time = utc_end\n",
    "how_long = int((utc_end - utc_start) / (next_data_term))"
   ]
  },
  {
   "cell_type": "code",
   "execution_count": 109,
   "metadata": {},
   "outputs": [
    {
     "name": "stdout",
     "output_type": "stream",
     "text": [
      "(51,)\n",
      "(240, 51)\n",
      "                  time      low     high     open    close     volume\n",
      "20 2018-07-31 00:00:00  9194000  9228000  9227500  9194000   3.672005\n",
      "21 2018-07-31 00:30:00  9192000  9204000  9204000  9192000   7.003656\n",
      "22 2018-07-31 01:00:00  9182000  9199000  9193000  9188500  14.513783\n",
      "23 2018-07-31 01:30:00  9190000  9229500  9190000  9229500   3.624100\n",
      "24 2018-07-31 02:00:00  9218500  9237000  9219500  9218500   3.303314\n",
      "25 2018-07-31 02:30:00  9195500  9236000  9218500  9195500   5.222542\n",
      "26 2018-07-31 03:00:00  9200000  9229500  9200000  9204500   2.274845\n",
      "27 2018-07-31 03:30:00  9213500  9248500  9225500  9231500   8.683738\n",
      "28 2018-07-31 04:00:00  9209500  9230500  9230500  9219000   3.648934\n",
      "29 2018-07-31 04:30:00  9205500  9218500  9218500  9205500   3.657549\n",
      "30 2018-07-31 05:00:00  9188000  9212500  9212500  9201000   7.530369\n",
      "31 2018-07-31 05:30:00  9185000  9201000  9190500  9201000   4.774519\n",
      "32 2018-07-31 06:00:00  9191500  9215500  9215500  9194000   2.627631\n",
      "33 2018-07-31 06:30:00  9188000  9217000  9190000  9192000   5.063278\n",
      "34 2018-07-31 07:00:00  9188000  9193000  9193000  9188000   3.488513\n",
      "35 2018-07-31 07:30:00  9150000  9188500  9185500  9150500   5.811760\n",
      "36 2018-07-31 08:00:00  9150500  9185500  9152000  9181000   3.473239\n",
      "37 2018-07-31 08:30:00  9175500  9219500  9187500  9219500   7.028510\n",
      "38 2018-07-31 09:00:00  9209500  9219500  9219500  9209500   0.549145\n",
      "39 2018-07-31 09:30:00  9185000  9213500  9213500  9201500   4.917909\n",
      "40 2018-07-31 10:00:00  9152000  9208000  9176000  9170000   2.187767\n",
      "41 2018-07-31 10:30:00  9166500  9177000  9171000  9177000   0.892327\n",
      "42 2018-07-31 11:00:00  9160000  9177500  9177000  9160000   3.396362\n",
      "43 2018-07-31 11:30:00  9000000  9168000  9168000  9004500  30.440515\n",
      "44 2018-07-31 12:00:00  8972500  9048500  9002000  9035500   4.426814\n",
      "45 2018-07-31 12:30:00  9026500  9097500  9026500  9080000   2.662099\n",
      "46 2018-07-31 13:00:00  9077500  9170500  9077500  9161500   5.033895\n",
      "47 2018-07-31 13:30:00  9167500  9213500  9167500  9210000   4.654839\n",
      "48 2018-07-31 14:00:00  9175500  9231000  9218000  9231000   4.182696\n",
      "49 2018-07-31 14:30:00  9207000  9250000  9245000  9235000   5.041908\n",
      "50 2018-07-31 15:00:00  9198500  9250000  9235000  9242000   0.352848\n",
      "51 2018-07-31 15:30:00  9200000  9231000  9208500  9211500   0.672701\n",
      "52 2018-07-31 16:00:00  9199000  9304000  9199000  9262500  10.090261\n",
      "53 2018-07-31 16:30:00  9252500  9262500  9253500  9254000   3.485198\n",
      "54 2018-07-31 17:00:00  9254000  9263000  9262500  9261000   0.963168\n",
      "55 2018-07-31 17:30:00  9200500  9261500  9254500  9251000  12.572012\n",
      "56 2018-07-31 18:00:00  9200000  9261000  9255000  9209500   5.885563\n",
      "57 2018-07-31 18:30:00  9200500  9223000  9214500  9216500   3.820695\n",
      "58 2018-07-31 19:00:00  9191000  9223000  9200000  9213000   2.475033\n",
      "59 2018-07-31 19:30:00  9196500  9223000  9222500  9197000   7.268379\n",
      "60 2018-07-31 20:00:00  9197500  9220000  9217500  9219500   3.937016\n",
      "61 2018-07-31 20:30:00  9200000  9216500  9214000  9216500   6.483401\n",
      "62 2018-07-31 21:00:00  9200000  9230000  9216500  9230000   2.916314\n",
      "63 2018-07-31 21:30:00  9201500  9240500  9226500  9240500   5.563674\n",
      "64 2018-07-31 22:00:00  9189000  9240000  9240000  9189000   4.175761\n",
      "65 2018-07-31 22:30:00  9175500  9223500  9187500  9206500   2.710041\n",
      "66 2018-07-31 23:00:00  9175500  9222000  9222000  9202500   5.920550\n",
      "67 2018-07-31 23:30:00  9185000  9208000  9200000  9201000   7.607675\n",
      "68 2018-08-01 00:00:00  9201500  9208000  9205000  9203500   5.863966\n",
      "69 2018-08-01 00:30:00  9203000  9228000  9207500  9212500  10.800273\n",
      "70 2018-08-01 01:00:00  9200000  9230000  9212500  9227000   5.731630\n"
     ]
    }
   ],
   "source": [
    "# how_long에 저장할 개수를 지정\n",
    "#df_train 딕셔너리에 df_train_0 이런 식으로 데이터 저장하기\n",
    "#18년 1월 1일 부터 시작해서 일주일간의 데이터 적용\n",
    "\n",
    "df_train = {}\n",
    "value_sum = np.array(())\n",
    "\n",
    "for how_long in range(how_long):\n",
    "    df_train[\"df_train_\"+str(how_long)] = \\\n",
    "    get_clean_data('BTC-KRW', str(datetime.utcfromtimestamp(start_utc_time+how_long*next_data_term)), \n",
    "                       str(datetime.utcfromtimestamp(start_utc_time+start_end_term+how_long*next_data_term+label_time_term+slack)),\n",
    "                   time_term)\n",
    "    \n",
    "    if how_long == 0:\n",
    "        value = df_train[\"df_train_\"+str(0)][\"close\"].values[:51]\n",
    "        print(np.shape(value))        \n",
    "    else:\n",
    "        value= np.vstack([value, df_train[\"df_train_\"+str(how_long)][\"close\"].values[:51]]) \n",
    "\n",
    "        #train데이터를 exel로 옮기기\n",
    "a = np.asarray(value)\n",
    "print(np.shape(a))\n",
    "np.savetxt(\"train_15.csv\", a, delimiter=\",\")\n",
    "print(df_train['df_train_0'][:51])"
   ]
  },
  {
   "cell_type": "code",
   "execution_count": null,
   "metadata": {},
   "outputs": [],
   "source": []
  }
 ],
 "metadata": {
  "kernelspec": {
   "display_name": "Python 3",
   "language": "python",
   "name": "python3"
  },
  "language_info": {
   "codemirror_mode": {
    "name": "ipython",
    "version": 3
   },
   "file_extension": ".py",
   "mimetype": "text/x-python",
   "name": "python",
   "nbconvert_exporter": "python",
   "pygments_lexer": "ipython3",
   "version": "3.6.5"
  }
 },
 "nbformat": 4,
 "nbformat_minor": 2
}
