{
 "cells": [
  {
   "cell_type": "code",
   "execution_count": null,
   "metadata": {},
   "outputs": [],
   "source": [
    "# Data Crawler\n",
    "# gopax 거래소에서 받고싶은 정보의 시간 범위를 작성하면 종가를 csv파일로 저장해주는 프로그램"
   ]
  },
  {
   "cell_type": "code",
   "execution_count": 1,
   "metadata": {},
   "outputs": [],
   "source": [
    "import gopax_api_wrapper as gopax\n",
    "import numpy as np\n",
    "import pandas as pd\n",
    "from datetime import datetime"
   ]
  },
  {
   "cell_type": "code",
   "execution_count": 2,
   "metadata": {},
   "outputs": [],
   "source": [
    "#data frame을 받기\n",
    "def get_past_dataframe(trading_pair, start, end, interval):\n",
    "    start_ts = gopax.get_timestamp(start)\n",
    "    end_ts = gopax.get_timestamp(end)\n",
    "    raw_result = gopax.get_past_data(trading_pair, start_ts, end_ts, interval)\n",
    "    result = pd.DataFrame(raw_result, columns = ['time', 'low', 'high', 'open', 'close', 'volume'])\n",
    "    return result"
   ]
  },
  {
   "cell_type": "code",
   "execution_count": 36,
   "metadata": {},
   "outputs": [],
   "source": [
    "#data frame 시간 조정\n",
    "def get_clean_data(trading_pair, start, end, interval):\n",
    "    diff = 18 * 3600\n",
    "    s = start\n",
    "    e = end\n",
    "    ts = gopax.get_timestamp(s)\n",
    "    te = gopax.get_timestamp(e)\n",
    "    result = get_past_dataframe(trading_pair, s, e, interval)\n",
    "    result = result[result.time >= ts * 1000]\n",
    "    result = result[result.time < te * 1000]\n",
    "    result['time'] = result['time'].apply(lambda x: datetime.utcfromtimestamp((x // 1000) + diff))\n",
    "    return result"
   ]
  },
  {
   "cell_type": "code",
   "execution_count": 74,
   "metadata": {},
   "outputs": [],
   "source": [
    "#시작 시간 지정\n",
    "#UTC시간으로 변경시키는 과정\n",
    "\n",
    "from time import mktime, strptime\n",
    "time_format = '%Y-%m-%d %H:%M:%S'\n",
    "time_tuple = strptime('2018-04-10 00:00:00', time_format)\n",
    "utc_start = mktime(time_tuple)\n",
    "\n",
    "#마지막 시간 지정\n",
    "#UTC시간으로 변경시키는 과정\n",
    "\n",
    "time_format = '%Y-%m-%d %H:%M:%S'\n",
    "time_tuple = strptime('2018-04-20 00:00:00', time_format)\n",
    "utc_end = mktime(time_tuple)"
   ]
  },
  {
   "cell_type": "code",
   "execution_count": 75,
   "metadata": {},
   "outputs": [],
   "source": [
    "#거래소에서 불러올 시간 간격 설정\n",
    "\n",
    "start_utc_time = utc_start      #2018-01-01 10:00:00 시작\n",
    "start_end_term = 60*60*24    #시작-마지막 간격 = 1일\n",
    "next_data_term = 3600         #train 데이터간 시간 간격 = 1시간\n",
    "time_term = 30                 #데이터간 시간 간격 = 30분\n",
    "\n",
    "label_time_term = 60*90   #lable 데이터 시작 마지막 간격\n",
    "\n",
    "slack = 60*60*4           #데이터 여유분(고팍스 데이터 불러오는거 그지 같아서...)\n",
    "end_utc_time = utc_end\n",
    "how_long = int((utc_end - utc_start) / (next_data_term))"
   ]
  },
  {
   "cell_type": "code",
   "execution_count": null,
   "metadata": {},
   "outputs": [
    {
     "name": "stdout",
     "output_type": "stream",
     "text": [
      "                  time      low     high     open    close     volume\n",
      "36 2018-04-10 00:00:00  7673000  7720000  7715500  7689000  11.187630\n",
      "37 2018-04-10 00:30:00  7690000  7712500  7690500  7697500   4.200287\n",
      "38 2018-04-10 01:00:00  7697500  7725000  7700000  7720000   8.281725\n",
      "39 2018-04-10 01:30:00  7705500  7725000  7718500  7715000   4.070682\n",
      "40 2018-04-10 02:00:00  7715000  7738000  7715000  7725500   7.281747\n",
      "41 2018-04-10 02:30:00  7720000  7749500  7725500  7741500  10.057549\n",
      "42 2018-04-10 03:00:00  7680000  7742000  7742000  7696500   6.186988\n",
      "43 2018-04-10 03:30:00  7666500  7699000  7696500  7680000  11.627342\n",
      "44 2018-04-10 04:00:00  7450500  7669000  7669000  7451000  25.574385\n",
      "45 2018-04-10 04:30:00  7430000  7499500  7451000  7442000  29.252749\n",
      "46 2018-04-10 05:00:00  7347000  7442000  7442000  7420000  18.848003\n",
      "47 2018-04-10 05:30:00  7360000  7424500  7419500  7404500  12.792490\n",
      "48 2018-04-10 06:00:00  7382000  7420500  7382000  7416000   7.003721\n",
      "49 2018-04-10 06:30:00  7346000  7414500  7410000  7390000  25.165611\n",
      "50 2018-04-10 07:00:00  7377500  7390000  7390000  7390000   1.834436\n",
      "51 2018-04-10 07:30:00  7362500  7391500  7390000  7369500   6.054814\n",
      "52 2018-04-10 08:00:00  7305500  7374000  7369500  7350000  19.075675\n",
      "53 2018-04-10 08:30:00  7350000  7379500  7350000  7379500   2.509540\n",
      "54 2018-04-10 09:00:00  7364000  7415000  7377000  7413500   2.439703\n",
      "55 2018-04-10 09:30:00  7370500  7425000  7400000  7388000  11.249260\n",
      "56 2018-04-10 10:00:00  7359500  7395500  7370000  7364000   5.120279\n",
      "57 2018-04-10 10:30:00  7366500  7409500  7395500  7409000   1.759556\n",
      "58 2018-04-10 11:00:00  7390000  7409500  7390500  7409000   1.942393\n",
      "59 2018-04-10 11:30:00  7362500  7408500  7408500  7376000   0.056400\n",
      "60 2018-04-10 12:00:00  7378000  7409000  7378000  7409000   4.430856\n",
      "61 2018-04-10 12:30:00  7378000  7379000  7378000  7378000   0.009860\n",
      "62 2018-04-10 13:00:00  7379500  7409500  7379500  7409500   0.513784\n",
      "63 2018-04-10 13:30:00  7326000  7378500  7378500  7326000   2.725918\n",
      "64 2018-04-10 14:00:00  7303500  7409000  7335500  7304000   4.014642\n",
      "65 2018-04-10 14:30:00  7306500  7359000  7307000  7359000   0.050066\n",
      "66 2018-04-10 15:00:00  7338500  7408500  7359500  7386500   1.788896\n",
      "67 2018-04-10 15:30:00  7360500  7409500  7361000  7409000   5.600357\n",
      "68 2018-04-10 16:00:00  7351000  7409000  7408500  7351000   4.452282\n",
      "69 2018-04-10 16:30:00  7385000  7409000  7385000  7385000   1.017484\n",
      "70 2018-04-10 17:00:00  7360000  7402500  7385000  7402500   4.688182\n",
      "71 2018-04-10 17:30:00  7400500  7440500  7402500  7440500   6.976938\n",
      "72 2018-04-10 18:00:00  7400000  7450000  7444500  7410000   8.505927\n",
      "73 2018-04-10 18:30:00  7390000  7410000  7410000  7401000   4.679539\n",
      "74 2018-04-10 19:00:00  7360000  7401000  7401000  7360000   5.285457\n",
      "75 2018-04-10 19:30:00  7360000  7398000  7360000  7374000   4.139227\n",
      "76 2018-04-10 20:00:00  7375000  7400500  7375000  7399500   9.656985\n",
      "77 2018-04-10 20:30:00  7383000  7401000  7399000  7383000   3.881360\n",
      "78 2018-04-10 21:00:00  7383000  7394000  7383000  7385000   2.878155\n",
      "79 2018-04-10 21:30:00  7391000  7407000  7398000  7406500   4.936184\n",
      "80 2018-04-10 22:00:00  7403500  7420000  7406500  7420000   5.374158\n",
      "81 2018-04-10 22:30:00  7395000  7420000  7420000  7402000   3.953153\n",
      "82 2018-04-10 23:00:00  7360000  7402500  7402500  7369500   7.083218\n",
      "83 2018-04-10 23:30:00  7351000  7398000  7370000  7360000   9.291108\n",
      "84 2018-04-11 00:00:00  7334500  7377000  7361500  7334500   5.531203\n",
      "85 2018-04-11 00:30:00  7303000  7358500  7350000  7303000  10.862093\n",
      "86 2018-04-11 01:00:00  7300000  7355000  7303000  7352500   8.824088\n",
      "(51,)\n"
     ]
    }
   ],
   "source": [
    "# how_long에 저장할 개수를 지정\n",
    "#df_train 딕셔너리에 df_train_0 이런 식으로 데이터 저장하기\n",
    "#18년 1월 1일 부터 시작해서 일주일간의 데이터 적용\n",
    "\n",
    "df_train = {}\n",
    "value_sum = np.array(())\n",
    "\n",
    "for how_long in range(how_long):\n",
    "    df_train[\"df_train_\"+str(how_long)] = \\\n",
    "    get_clean_data('BTC-KRW', str(datetime.utcfromtimestamp(start_utc_time+how_long*next_data_term)), \n",
    "                       str(datetime.utcfromtimestamp(start_utc_time+start_end_term+how_long*next_data_term+label_time_term+slack)),\n",
    "                   time_term)\n",
    "    \n",
    "    if how_long == 0:\n",
    "        value = df_train[\"df_train_\"+str(0)][\"close\"].values[:51]\n",
    "        print(np.shape(value))        \n",
    "    else:\n",
    "        value= np.vstack([value, df_train[\"df_train_\"+str(how_long)][\"close\"].values[:51]]) \n",
    "\n",
    "        #train데이터를 exel로 옮기기\n",
    "a = np.asarray(value)\n",
    "print(np.shape(a))\n",
    "np.savetxt(\"train_4.csv\", a, delimiter=\",\")\n",
    "print(df_train['df_train_0'][:51])"
   ]
  },
  {
   "cell_type": "code",
   "execution_count": null,
   "metadata": {},
   "outputs": [],
   "source": []
  }
 ],
 "metadata": {
  "kernelspec": {
   "display_name": "Python 3",
   "language": "python",
   "name": "python3"
  },
  "language_info": {
   "codemirror_mode": {
    "name": "ipython",
    "version": 3
   },
   "file_extension": ".py",
   "mimetype": "text/x-python",
   "name": "python",
   "nbconvert_exporter": "python",
   "pygments_lexer": "ipython3",
   "version": "3.6.5"
  }
 },
 "nbformat": 4,
 "nbformat_minor": 2
}
